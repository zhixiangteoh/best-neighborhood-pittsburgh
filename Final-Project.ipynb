{
 "cells": [
  {
   "cell_type": "markdown",
   "metadata": {},
   "source": [
    "# CMPINF0010 Lab Final Project\n",
    "\n",
    "Your final project is, at least ideally, the conjoining of everything you've learned in the course so far. You'll be using many of the big ideas you've learned, your Python skills, command-line and `git`, and plenty of pandas and data viz. \n",
    "\n",
    "You will be working in teams (assigned below) to make a data driven argument that answers the following question:\n",
    "\n",
    "## What is the best neighborhood in Pittsburgh?\n",
    "\n",
    "Using data from the WPRDC, you will create a data driven argument to support your claim about the “best” neighborhood in Pittsburgh.\n",
    "\n",
    "With your group members, you will be creating a Jupyter notebook to demonstrate your argument and the data analysis you did to support it. You will present your arguments to the class in the last few weeks of lab.\n",
    "\n",
    "To answer this question you need to do the following:\n",
    "\n",
    "* Come up with a team name!\n",
    "* As a group, come up with some ways of defining and measuring \"bestness\". Each group member will be responsible for **one metric each.**\n",
    "* Use at least 3 datasets in your argument. The easiest way to meet this requirement is for each member to choose their own _unique_ dataset to analyze their metric.\n",
    "* Combine your metrics into a single metric as you see fit.\n",
    "* Create a git repository to store your data and notebooks and code.\n",
    "\n",
    "\n",
    "**Note**: There is a lot of subjectivity here, to wit, *what does \"best\" mean?*. One of your tasks in this project is to come up with your own metric for “best” and then use it to analyze data to determine the best neighborhood. The goal of this final project is to work as a team to develop a metric, apply it, and write up the results.\n",
    "\n",
    "You could define \"best\" as the smartest and then define smartness as \"number of advanced degree holders living in the neighborhood\". Or you might also define best as the ratio of the ”number of potholes\" and the “number of trees” in the neighborhood (lower or higher, the decision is up to you). How you want to measure bestness is up to you.\n",
    "\n",
    "----\n",
    "\n",
    "You'll be dealing with WPRDC data to talk about Pittsburgh, so here's a guide to working with the WPRDC."
   ]
  },
  {
   "cell_type": "code",
   "execution_count": null,
   "metadata": {},
   "outputs": [],
   "source": [
    "import pandas as pd\n",
    "import numpy as np"
   ]
  },
  {
   "cell_type": "markdown",
   "metadata": {},
   "source": [
    "## The WPRDC, or, how to deal with open data\n",
    "\n",
    "Last week, you dug through the WPRDC and had a chance to see the vast and varied data available there. During this project, you'll be dealing with quite a few datasets and data sources, but luckily they'll all be *open data*. Open data is, according to [Albert Lin](http://www.wprdc.org/news/so-you-want-to-use-open-data/) of the WPRDC, \"a complete set of primary data made easily and permanently available in a timely fashion using electronic, machine readable, open file formats. Cost should not pose a barrier to accessing information, and no unreasonable restrictions should limit accessibility, sharing and re-use.\" \n",
    "\n",
    "### A brief guide to the WPRDC\n",
    "\n",
    "Your primary source of data to analyze will be the Western Pennsylvania Regional Data Center, or WPRDC. We've used WPRDC data a lot over the past few weeks, but this is the first time you'll be exploring the vast expanses of its data before. \n",
    "\n",
    "There's a *lot* of data available, so it's important to know how to search through it and find what you want. \n",
    "\n",
    "The primary way you'll find relevant datasets is through **keyword search**. From the master list of all datasets available at [data.wprdc.org](https://data.wprdc.org), just search for what you're looking for! For example, when I was looking for a list of all of the bus stops on Port Authority routes, I searched \"bus stops,\" and the first (and only) result was exactly what I wanted: [this lovely dataset](https://data.wprdc.org/dataset/port-authority-of-allegheny-county-transit-stops).\n",
    "\n",
    "However, searching around can be fruitless if you're not exactly sure what kind of data are available; fortunately, the WPRDC groups their datasets into topic-centered **categories**, like health, public safety, and housing. The full list of categories is available here: [data.wprdc.org/group](https://data.wprdc.org/group). If you can't find the specific data you want by searching for it, or if you don't know what data you want exactly, try browsing through the relevant category or categories and see what you find.\n",
    "\n",
    "Finally, you can also sort by **publisher**. Each government agency or private group that displays data through the WPRDC has their own page listing all of the data they provide. You can view all of the organizations here: [data.wprdc.org/organization](https://data.wprdc.org/organization)."
   ]
  },
  {
   "cell_type": "markdown",
   "metadata": {},
   "source": [
    "### What to do once you've got your data\n",
    "\n",
    "When you've found a dataset you're going to use in your analysis, it's important to consider how you should treat your data. There are basically two relevant vectors to consider here: streaming the data online, or downloading a copy locally. The good news is that you've done both of these kinds of data use before!\n",
    "\n",
    "**Streaming the data** is essentially just reading in your data from a link on the internet. We did this with the 311 data in a past week: "
   ]
  },
  {
   "cell_type": "code",
   "execution_count": null,
   "metadata": {},
   "outputs": [],
   "source": [
    "# run this if you have data\n",
    "\n",
    "import ssl\n",
    "\n",
    "ssl._create_default_https_context = ssl._create_unverified_context"
   ]
  },
  {
   "cell_type": "code",
   "execution_count": null,
   "metadata": {},
   "outputs": [],
   "source": [
    "# load the 311 data directly from the WPRDC and parse dates directly\n",
    "pgh_311_data = pd.read_csv(\"https://data.wprdc.org/datastore/dump/76fda9d0-69be-4dd5-8108-0de7907fc5a4\",\n",
    "                           index_col=\"CREATED_ON\", \n",
    "                           parse_dates=True)\n",
    "pgh_311_data.head()"
   ]
  },
  {
   "cell_type": "markdown",
   "metadata": {},
   "source": [
    "As you see here, we can just give `pandas` a link to a data file from the internet and it'll just handle it; it's pretty great that way. And it was good to use that for something that keeps updating continuously, like Pittsburgh 311 calls. (As I write this, the most recent update was 4 minutes ago.) \n",
    "\n",
    "However, links on the web are *unstable*: they can move or be taken down, and there's no guarantee that there will be a good internet connection everywhere. So, it's always a good idea to have a copy of any online data as a backup.\n",
    "\n",
    "If you're dealing with data that isn't actively changing, like results from a diabetes study that occured in 2015, it's probably best to **use a local copy of the data** for your analysis. You've done this a lot; it's why our data analysis labs have been in GitHub repos that you `git clone` instead of just downloading a notebook. Managing a bunch of files can be fiddly, but GitHub makes it easy to distribute and manage projects. You can download local copies of WPRDC data from the site and use them in your projects like any other file we've worked with, using the `read_table()` and `read_csv()` functions in `pandas`. \n",
    "\n",
    "**Note**: You may encounter some weird filetypes that we haven't dealt with in class. One I ran into was a `.dbf` file, which is an older type of database. To deal with `.dbf` files, we can use a module called `geopandas`, which normally is used for doing spatial/map stuff in data analysis. (You'll use `geopandas` elsewhere in your project, most likely.)\n",
    "\n",
    "To read in a `.dbf` file (I'm using the Port Authority's bus stop data as an example), do the following: "
   ]
  },
  {
   "cell_type": "code",
   "execution_count": null,
   "metadata": {},
   "outputs": [],
   "source": [
    "import geopandas as gpd\n",
    "\n",
    "dbf = r'PAAC_Stops_1611.dbf' # this opens the database as a readable file\n",
    "\n",
    "table = gpd.read_file(dbf)\n",
    "\n",
    "pdtable = pd.DataFrame(table)\n",
    "pdtable.head()"
   ]
  },
  {
   "cell_type": "markdown",
   "metadata": {},
   "source": [
    "`geopandas` can read some filetypes that `pandas` doesn't natively support. If you encounter any other filetypes and the normal functions don't work, remember to use [Read-Search-Ask](https://medium.freecodecamp.org/read-search-dont-be-afraid-to-ask-743a23c411b4) and try to find a solution on the internet. Someone's dealt with your situation before."
   ]
  },
  {
   "cell_type": "markdown",
   "metadata": {},
   "source": [
    "---"
   ]
  },
  {
   "cell_type": "markdown",
   "metadata": {},
   "source": [
    "## Groups \n",
    "\n",
    "You'll be broken into groups, which you can view [on Canvas](https://canvas.pitt.edu/)."
   ]
  },
  {
   "cell_type": "markdown",
   "metadata": {},
   "source": [
    "Once you've found your group mates, link up with them (with the emails provided, or through whatever other means you wish). Each person will turn in **a link to your project's repo**."
   ]
  },
  {
   "cell_type": "markdown",
   "metadata": {},
   "source": [
    "---\n",
    "\n",
    "## Progress Presentations\n",
    "\n",
    "In the next-to-last week of this lab, your group will need to present your argument for what is the best neighborhood in Pittsburgh. You will also have to talk about your metric and how you applied it. Expect to have a discussion about your team’s metric and get feedback to incorporate into the final report. \n",
    "\n",
    "Presentations should last a maximum of 10 minutes, with 5 minutes of discussion.\n",
    "\n",
    "You can prepare slides or you can present from a notebook directly. We understand your analysis will be in-progress, but you should have some initial results. \n",
    "\n",
    "If one or more of your team members is in a different lab section, that's fine! Since each member is responsible for a single metric, you will only be expected to present on the metric that you analyzed yourself. With that said, feel free to talk about the rest of the team's work as you see fit."
   ]
  },
  {
   "cell_type": "markdown",
   "metadata": {},
   "source": [
    "## Final Report & Presentation\n",
    "\n",
    "It is best to think about your final project as a data-driven report. You will need to put everything into a Jupyter notebook with the following structure:\n",
    "\n",
    "* **Introduction:** Introduce the project, your approach, talk about the process of how you came up with the metric and some alternatives you may have explored.\n",
    "* **The Metric:** Describe your metric, what features are you measuring. What datasets  are you using?\n",
    "* **The Best Neighborhood:** Apply the metric from the previous section to determine the best neighborhood in Pittsburgh. Beyond just executing code, provide narrative about why you think this is the best neighborhood. Incorporate a data visualization, perhaps to rank all of the neighborhoods or show a neighborhood’s best-ness over time. The key is to make a data driven argument.\n",
    "* **Conclusion:** Reflect on how the data driven determination of “best neighborhood” is the same or different from your personal favorite neighborhood. Each member of the group should write their own response to this.\n",
    "\n",
    "Then, in our final meeting, each group will present again. This time you will be presenting your finished project instead of an in-progress one. Unlike the progress presentations, if your group has members in multiple sections, you will need to coordinate to pick a section that you can all present in.\n",
    "\n",
    "### Tips\n",
    "\n",
    "* Make this fun! Don’t make this harder than it needs to be. You define your metrics, so you are entirely free to pick a metric that is easy to calculate, but reveals something fun about Pittsburgh. You can also be as fancy as you want, and if you want to do something big and impressive, go for it!\n",
    "* Show your work, but not all of it. When working on a project, I often have a couple sets of notebooks. One is a set of working notebooks where I do my data exploration, hack on the code, and go down wrong paths. When I finally am able to pull together the code that generates the result I want, I move just that code into my “final draft.” I only want to see the data cleaning, transformation, analysis, and visualization associated with the specific argument you are making.\n"
   ]
  },
  {
   "cell_type": "markdown",
   "metadata": {},
   "source": [
    "## Collaboration\n",
    "\n",
    "You should use a shared GitHub repository to collaborate with your group, so that you can work on the project and be sure that you all have the same version. One person should create a repository for the project, and then they'll need to invite the other members of the group to collaborate. You can see how to do that in this [GitHub article](https://help.github.com/articles/inviting-collaborators-to-a-personal-repository/). \n",
    "\n",
    "For programming, I'd point your attention to the software development concept of \"pair programming\". It's defined [here](https://www.agilealliance.org/glossary/pairing/): \n",
    "\n",
    "> \"Pair programming consists of two programmers sharing a single workstation (one screen, keyboard and mouse among the pair). The programmer at the keyboard is usually called the \"driver\", the other, also actively involved in the programming task but focusing more on overall direction is the \"navigator\"; it is expected that the programmers swap roles every few minutes or so.\n",
    "\n",
    "If you and your partners want to work together to solve the larger coding/data analysis problems, pair programming can be a good framework to try to operate in. It, however, is just a suggestion.\n",
    "\n",
    "## Completing the Report and Presentation\n",
    "\n",
    "The **final report** is due by **11:59pm, on Wednesday 22 April 2020**. \n",
    "\n",
    "You'll have this week and next to work on your presentation and the project in lab and independently, with your groups.\n",
    "\n",
    "The final two lab sessions will consist of **student presentations**: each group will give two short presentations on their chosen neighborhood. These presentations will be a lot like your lab lecture; you'll be presenting from your Jupyter notebook. You should prepare these with your group ahead of time, taking the time to write yourself speaker notes and get a sense of who will be presenting what.\n",
    "\n",
    "If you have a **problem with being able to attend** to give your presentation, let me know as soon as possible.\n",
    "\n",
    "Next week, the groups will select their **presentation times**. "
   ]
  }
 ],
 "metadata": {
  "kernelspec": {
   "display_name": "Python 3",
   "language": "python",
   "name": "python3"
  },
  "language_info": {
   "codemirror_mode": {
    "name": "ipython",
    "version": 3
   },
   "file_extension": ".py",
   "mimetype": "text/x-python",
   "name": "python",
   "nbconvert_exporter": "python",
   "pygments_lexer": "ipython3",
   "version": "3.6.7"
  }
 },
 "nbformat": 4,
 "nbformat_minor": 4
}
